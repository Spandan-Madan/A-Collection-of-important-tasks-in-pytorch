{
  "nbformat": 4,
  "nbformat_minor": 5,
  "metadata": {
    "kernelspec": {
      "display_name": "diff_rendering_ml",
      "language": "python",
      "name": "diff_rendering_ml"
    },
    "language_info": {
      "codemirror_mode": {
        "name": "ipython",
        "version": 3
      },
      "file_extension": ".py",
      "mimetype": "text/x-python",
      "name": "python",
      "nbconvert_exporter": "python",
      "pygments_lexer": "ipython3",
      "version": "3.8.5"
    },
    "colab": {
      "name": "uniform_data.ipynb",
      "provenance": [],
      "include_colab_link": true
    },
    "accelerator": "GPU"
  },
  "cells": [
    {
      "cell_type": "markdown",
      "metadata": {
        "id": "view-in-github",
        "colab_type": "text"
      },
      "source": [
        "<a href=\"https://colab.research.google.com/github/Spandan-Madan/A-Collection-of-important-tasks-in-pytorch/blob/master/uniform_data.ipynb\" target=\"_parent\"><img src=\"https://colab.research.google.com/assets/colab-badge.svg\" alt=\"Open In Colab\"/></a>"
      ]
    },
    {
      "cell_type": "code",
      "metadata": {
        "scrolled": true,
        "id": "authentic-personal"
      },
      "source": [
        "import torch\n",
        "import random\n",
        "import torch.nn as nn"
      ],
      "id": "authentic-personal",
      "execution_count": 1,
      "outputs": []
    },
    {
      "cell_type": "code",
      "metadata": {
        "id": "lesser-motion"
      },
      "source": [
        "import torch.distributions as D"
      ],
      "id": "lesser-motion",
      "execution_count": 2,
      "outputs": []
    },
    {
      "cell_type": "code",
      "metadata": {
        "colab": {
          "base_uri": "https://localhost:8080/"
        },
        "id": "C0-v8H99cJBY",
        "outputId": "f20e1651-e051-4502-bbf4-9336e193478c"
      },
      "source": [
        "from google.colab import drive\n",
        "drive.mount('/content/drive')"
      ],
      "id": "C0-v8H99cJBY",
      "execution_count": 3,
      "outputs": [
        {
          "output_type": "stream",
          "name": "stdout",
          "text": [
            "Mounted at /content/drive\n"
          ]
        }
      ]
    },
    {
      "cell_type": "code",
      "metadata": {
        "colab": {
          "base_uri": "https://localhost:8080/"
        },
        "id": "bNXRGhARcaFZ",
        "outputId": "fdac2d3f-8acc-4f39-ed16-ec8641d71473"
      },
      "source": [
        "%cd /content/drive/MyDrive/github/differentiable_graphics_ml"
      ],
      "id": "bNXRGhARcaFZ",
      "execution_count": 4,
      "outputs": [
        {
          "output_type": "stream",
          "name": "stdout",
          "text": [
            "/content/drive/MyDrive/github/differentiable_graphics_ml\n"
          ]
        }
      ]
    },
    {
      "cell_type": "code",
      "metadata": {
        "id": "ceLeCbgzctB0"
      },
      "source": [
        "import numpy as np"
      ],
      "id": "ceLeCbgzctB0",
      "execution_count": 5,
      "outputs": []
    },
    {
      "cell_type": "code",
      "metadata": {
        "id": "current-latex"
      },
      "source": [
        "import cma\n",
        "from tqdm.notebook import tqdm\n",
        "import pickle\n",
        "\n",
        "import matplotlib.pyplot as plt"
      ],
      "id": "current-latex",
      "execution_count": 6,
      "outputs": []
    },
    {
      "cell_type": "code",
      "metadata": {
        "id": "respective-front"
      },
      "source": [
        "import torch.nn.functional as F"
      ],
      "id": "respective-front",
      "execution_count": 7,
      "outputs": []
    },
    {
      "cell_type": "code",
      "metadata": {
        "id": "floppy-resolution"
      },
      "source": [
        "def sample_uniform(batch_size, N_dim, r1, r2):\n",
        "    random_matrix = (r1 - r2) * torch.rand([batch_size, N_dim]) + r2\n",
        "    return random_matrix"
      ],
      "id": "floppy-resolution",
      "execution_count": 8,
      "outputs": []
    },
    {
      "cell_type": "code",
      "metadata": {
        "id": "residential-spider"
      },
      "source": [
        "class MLP(nn.Module):\n",
        "    def __init__(self, data_dimensions,name):\n",
        "        super(MLP, self).__init__()\n",
        "        self.layers = nn.Sequential(\n",
        "            nn.Linear(data_dimensions, int(data_dimensions)),\n",
        "            nn.ReLU(),\n",
        "#             nn.Linear(int(data_dimensions*5), int(data_dimensions/5)),\n",
        "#             nn.ReLU(),\n",
        "#             nn.Linear(int(data_dimensions), int(data_dimensions/5)),\n",
        "#             nn.ReLU(),\n",
        "#             nn.Linear(int(data_dimensions/5), int(data_dimensions/5)),\n",
        "#             nn.ReLU(),\n",
        "            nn.Linear(int(data_dimensions), 2)\n",
        "        )\n",
        "        self.name = name\n",
        "        self.train_accuracy = 0\n",
        "        self.test_accuracy = 0\n",
        "        self.dataset = []\n",
        "\n",
        "    def forward(self, x):\n",
        "        x = x.view(x.size(0), -1)\n",
        "        x = self.layers(x)\n",
        "        return x"
      ],
      "id": "residential-spider",
      "execution_count": 9,
      "outputs": []
    },
    {
      "cell_type": "code",
      "metadata": {
        "id": "actual-exhibition"
      },
      "source": [
        "class CMA_info():\n",
        "    def __init__(self, model_name, num_samples):\n",
        "        super(CMA_info, self).__init__()\n",
        "        self.model_name = model_name\n",
        "        self.num_samples = num_samples\n",
        "        \n",
        "        self.distances = []\n",
        "        self.in_dist_advs = []\n",
        "        self.advs = []\n",
        "        self.starts = []\n",
        "    \n",
        "    def summary(self):\n",
        "        print('****************** CMA Summary *******************')\n",
        "        print('Trained on %s points:'%self.model_name.split('_')[-1])\n",
        "        print('Adversarials: %s/%s'%(len(self.advs), self.num_samples))\n",
        "        print('In-distribution: %s/%s'%(len(self.in_dist_advs), len(self.advs)))\n",
        "        \n",
        "        avg_dist = np.mean(self.distances)\n",
        "        print('Average L2 distance: %s'%(avg_dist))\n",
        "        print('*'*50)"
      ],
      "id": "actual-exhibition",
      "execution_count": 10,
      "outputs": []
    },
    {
      "cell_type": "code",
      "metadata": {
        "id": "dental-belle"
      },
      "source": [
        "x1_min = -10\n",
        "x1_max = 10\n",
        "\n",
        "x2_min = 20\n",
        "x2_max = 40\n",
        "\n",
        "test_min = -1\n",
        "test_max= 1"
      ],
      "id": "dental-belle",
      "execution_count": 11,
      "outputs": []
    },
    {
      "cell_type": "code",
      "metadata": {
        "id": "actual-announcement"
      },
      "source": [
        "def make_dataset(dataset_size):\n",
        "    sample_1 = sample_uniform(dataset_size, N_dim, x1_min, x1_max)\n",
        "    sample_2 = sample_uniform(dataset_size, N_dim, x2_min, x2_max)\n",
        "    \n",
        "    labels_1 = torch.zeros(len(sample_1))\n",
        "    labels_2 = torch.ones(len(sample_2))\n",
        "    \n",
        "    X = torch.vstack([sample_1, sample_2])\n",
        "    Y = torch.hstack([labels_1, labels_2])\n",
        "    ids = list(range(len(X)))\n",
        "\n",
        "    random.shuffle(ids)\n",
        "    train_ids = ids[:int(0.8*len(X))]\n",
        "    test_ids = ids[int(0.8*len(X)):]\n",
        "\n",
        "    # len(X)\n",
        "\n",
        "    X_train = X[train_ids].cuda()\n",
        "    X_test = X[test_ids].cuda()\n",
        "\n",
        "    Y_train = Y[train_ids].cuda()\n",
        "    Y_test = Y[test_ids].cuda()\n",
        "    return X_train, X_test, Y_train, Y_test"
      ],
      "id": "actual-announcement",
      "execution_count": 12,
      "outputs": []
    },
    {
      "cell_type": "code",
      "metadata": {
        "id": "secure-interference"
      },
      "source": [
        "def train_model(N_dim, dataset, name):\n",
        "    X_train, X_test, Y_train, Y_test = dataset\n",
        "    model = MLP(N_dim, name).cuda()\n",
        "    optimizer = torch.optim.SGD(model.parameters(), lr=0.0001)\n",
        "    loss_fn = nn.CrossEntropyLoss()\n",
        "    model.dataset = dataset\n",
        "    \n",
        "    for epoch in tqdm(range(1000)): \n",
        "        outputs = model(X_train)\n",
        "        loss = loss_fn(outputs, Y_train.long())\n",
        "        loss.backward()\n",
        "        optimizer.step()\n",
        "\n",
        "        predictions = torch.argmax(model(X_test), dim=1)\n",
        "        accuracy = torch.sum(predictions == Y_test)/len(Y_test)\n",
        "        \n",
        "        train_predictions = torch.argmax(model(X_train), dim=1)\n",
        "        train_accuracy = torch.sum(train_predictions == Y_train)/len(Y_train)\n",
        "\n",
        "        if epoch == 999:\n",
        "            print(\"Epoch:%s, Train Acc:%s\"%(epoch, train_accuracy))\n",
        "            print(\"Epoch:%s, Test Acc:%s\"%(epoch, accuracy))\n",
        "        \n",
        "        model.test_accuracy = accuracy\n",
        "        model.train_accuracy = train_accuracy\n",
        "    \n",
        "    return model"
      ],
      "id": "secure-interference",
      "execution_count": 13,
      "outputs": []
    },
    {
      "cell_type": "code",
      "metadata": {
        "id": "literary-wyoming"
      },
      "source": [
        "def batched_train_model(N_dim, dataset, name):\n",
        "    X_train, X_test, Y_train, Y_test = dataset\n",
        "    model = MLP(N_dim, name).cuda()\n",
        "    optimizer = torch.optim.SGD(model.parameters(), lr=0.0001)\n",
        "    loss_fn = nn.CrossEntropyLoss()\n",
        "    model.dataset = dataset\n",
        "    \n",
        "    BATCH_SIZE = 64000\n",
        "    \n",
        "    for epoch in tqdm(range(1000)):\n",
        "        num_batches = int(X_train.shape[0]/(BATCH_SIZE))\n",
        "        \n",
        "        batch_accuracies = []\n",
        "        batch_train_accuracies = []\n",
        "        for batch_num in range(num_batches):\n",
        "            start_pt = BATCH_SIZE * batch_num\n",
        "            end_pt = start_pt + BATCH_SIZE\n",
        "            train_X = X_train[start_pt:end_pt]\n",
        "            train_Y = Y_train[start_pt:end_pt]\n",
        "            test_X = X_test\n",
        "            test_Y = Y_test\n",
        "\n",
        "            outputs = model(train_X)\n",
        "            loss = loss_fn(outputs, train_Y.long())\n",
        "            loss.backward()\n",
        "            optimizer.step()\n",
        "\n",
        "            batch_predictions = torch.argmax(model(test_X), dim=1)\n",
        "            batch_accuracy = torch.sum(batch_predictions == test_Y)/len(test_Y)\n",
        "            batch_accuracies.append(batch_accuracy.item())\n",
        "            \n",
        "            batch_train_predictions = torch.argmax(model(train_X), dim=1)\n",
        "            batch_train_accuracy = torch.sum(batch_train_predictions == train_Y)/len(train_Y)\n",
        "            batch_train_accuracies.append(batch_train_accuracy.item())        \n",
        "        \n",
        "        accuracy = np.mean(batch_accuracies)\n",
        "        train_accuracy = np.mean(batch_train_accuracies)\n",
        "\n",
        "        \n",
        "        if epoch%100 == 0:\n",
        "            print(\"Epoch:%s, Train Acc:%s\"%(epoch, train_accuracy))\n",
        "            print(\"Epoch:%s, Test Acc:%s\"%(epoch, accuracy))\n",
        "        \n",
        "        if epoch == 999:\n",
        "            print(\"Epoch:%s, Train Acc:%s\"%(epoch, train_accuracy))\n",
        "            print(\"Epoch:%s, Test Acc:%s\"%(epoch, accuracy))\n",
        "        \n",
        "        model.test_accuracy = accuracy\n",
        "        model.train_accuracy = train_accuracy\n",
        "    \n",
        "    return model"
      ],
      "id": "literary-wyoming",
      "execution_count": 14,
      "outputs": []
    },
    {
      "cell_type": "code",
      "metadata": {
        "id": "magnetic-circuit"
      },
      "source": [
        "#### Tests for generating and training image models####\n",
        "\n",
        "# image_test_data = make_dataset(1000, True)\n",
        "# image_test_model = train_model(N_dim, image_test_data, 'dset_size_%s'%dsize, True)"
      ],
      "id": "magnetic-circuit",
      "execution_count": 15,
      "outputs": []
    },
    {
      "cell_type": "markdown",
      "metadata": {
        "id": "individual-apache"
      },
      "source": [
        "# CMA failures"
      ],
      "id": "individual-apache"
    },
    {
      "cell_type": "code",
      "metadata": {
        "id": "difficult-flood"
      },
      "source": [
        "# def cma_objective(x_input):\n",
        "#     torch_x = torch.from_numpy(x_input).unsqueeze(0).float()\n",
        "#     if 'LeNet' in CURRENT_MODEL.name\n",
        "#     output = CURRENT_MODEL(torch_x)\n",
        "#     pred_prob = output[0][CATEGORY_NUM].item()\n",
        "#     prediction = torch.argmax(output[0]).item()\n",
        "#     return pred_prob, prediction"
      ],
      "id": "difficult-flood",
      "execution_count": 16,
      "outputs": []
    },
    {
      "cell_type": "code",
      "metadata": {
        "id": "phantom-cancellation"
      },
      "source": [
        "# torch.vstack([start_pos[0].unsqueeze(0), start_pos[0].unsqueeze(0), start_pos[0].unsqueeze(0)]).shape"
      ],
      "id": "phantom-cancellation",
      "execution_count": 17,
      "outputs": []
    },
    {
      "cell_type": "code",
      "metadata": {
        "id": "opened-louisville"
      },
      "source": [
        "def cma_objective(x_input):\n",
        "    torch_x = torch.from_numpy(x_input).unsqueeze(0).float()\n",
        "#     try:\n",
        "#         if 'LeNet' in CURRENT_MODEL.name:\n",
        "#             side_size = int(np.sqrt(N_dim))\n",
        "#             torch_x = torch.from_numpy(x_input).reshape(1,1,side_size,side_size).float()\n",
        "#         else:\n",
        "#             torch_x = torch.from_numpy(x_input).unsqueeze(0).float()\n",
        "#     except:\n",
        "#         side_size = int(np.sqrt(int(N_dim/3)))\n",
        "#         torch_x_channel = torch.from_numpy(x_input).reshape(1,3,side_size,side_size).float()\n",
        "#         torch_x = torch.vstack([torch_x_channel, torch_x_channel, torch_x_channel]).cuda()\n",
        "        \n",
        "    output = CURRENT_MODEL(torch_x)\n",
        "    pred_prob = output[0][CATEGORY_NUM].item()\n",
        "    prediction = torch.argmax(output[0]).item()\n",
        "    return pred_prob, prediction"
      ],
      "id": "opened-louisville",
      "execution_count": 18,
      "outputs": []
    },
    {
      "cell_type": "code",
      "metadata": {
        "id": "renewable-constitutional"
      },
      "source": [
        "def cma_experiment(attacked_model, num_samples = 50):\n",
        "    cma_search_output = {}\n",
        "    global CURRENT_MODEL\n",
        "    CURRENT_MODEL = attacked_model\n",
        "    print(CURRENT_MODEL.name)\n",
        "    cma_output = CMA_info(CURRENT_MODEL.name, num_samples)        \n",
        "    \n",
        "    for i in tqdm(range(num_samples)):\n",
        "        initial_pred = 1\n",
        "        while initial_pred == 1:\n",
        "            start_pos = sample_uniform(1, N_dim, test_min, test_max)\n",
        "            output = CURRENT_MODEL(start_pos)\n",
        "            initial_pred = torch.argmax(output[0]).item()\n",
        "        cma_output.starts.append(start_pos)\n",
        "        start_pos = start_pos[0]\n",
        "        \n",
        "        es = cma.CMAEvolutionStrategy(start_pos, 0.00005)\n",
        "        es.optimize(cma_objective, verb_disp = False, iterations=1500, correct_prediction = CATEGORY_NUM)\n",
        "        adv_offspring_ids = np.where(np.array(es.predictions) != 0)\n",
        "        \n",
        "        if len(adv_offspring_ids[0]) > 0:\n",
        "            random_adv_offspring_id = random.choice(list(adv_offspring_ids[0]))\n",
        "            random_adv_offspring = es.prediction_settings[random_adv_offspring_id]\n",
        "            cma_output.advs.append(random_adv_offspring)        \n",
        "\n",
        "            max_val = np.max(random_adv_offspring)\n",
        "            if max_val < x1_max:\n",
        "                cma_output.in_dist_advs.append(random_adv_offspring)\n",
        "                distance = np.linalg.norm(start_pos - random_adv_offspring)\n",
        "                cma_output.distances.append(distance)\n",
        "    return cma_output"
      ],
      "id": "renewable-constitutional",
      "execution_count": 19,
      "outputs": []
    },
    {
      "cell_type": "code",
      "metadata": {
        "id": "affected-trade"
      },
      "source": [
        "CATEGORY_NUM = 0\n",
        "CURRENT_MODEL = None\n",
        "\n",
        "N_dim = 100"
      ],
      "id": "affected-trade",
      "execution_count": 20,
      "outputs": []
    },
    {
      "cell_type": "code",
      "metadata": {
        "id": "national-shock"
      },
      "source": [
        "# all_info[-1]"
      ],
      "id": "national-shock",
      "execution_count": 21,
      "outputs": []
    },
    {
      "cell_type": "code",
      "metadata": {
        "id": "distant-hobby"
      },
      "source": [
        "# all_info[0]"
      ],
      "id": "distant-hobby",
      "execution_count": 22,
      "outputs": []
    },
    {
      "cell_type": "markdown",
      "metadata": {
        "id": "outside-startup"
      },
      "source": [
        "### CMA attack accuracy vs Dataset size"
      ],
      "id": "outside-startup"
    },
    {
      "cell_type": "code",
      "metadata": {
        "id": "utility-league"
      },
      "source": [
        "all_info = []"
      ],
      "id": "utility-league",
      "execution_count": 23,
      "outputs": []
    },
    {
      "cell_type": "code",
      "metadata": {
        "scrolled": true,
        "colab": {
          "base_uri": "https://localhost:8080/"
        },
        "id": "comic-landscape",
        "outputId": "df89c926-457d-4481-c9db-074e32c3786e"
      },
      "source": [
        "for iteration in range(10):\n",
        "    print('*'*50)\n",
        "    print('Iteration %s'%iteration)\n",
        "    print('*'*50)\n",
        "    \n",
        "    trained_models = {}\n",
        "    attack_output = {}\n",
        "    for dsize in [10000, 100000]:\n",
        "        print('Working with with %s'%dsize)\n",
        "        dset = make_dataset(dsize)\n",
        "        if dsize > 64000:\n",
        "            trained_models[dsize] = batched_train_model(N_dim, dset, 'dset_size_%s'%dsize)\n",
        "        else:\n",
        "            trained_models[dsize] = train_model(N_dim, dset, 'dset_size_%s'%dsize)\n",
        "        model_to_attack = trained_models[dsize].cpu()\n",
        "        attack_output[dsize] = cma_experiment(model_to_attack, 50)\n",
        "    iter_info = [trained_models, attack_output]\n",
        "    all_info.append(iter_info)"
      ],
      "id": "comic-landscape",
      "execution_count": null,
      "outputs": [
        {
          "output_type": "stream",
          "name": "stdout",
          "text": [
            "**************************************************\n",
            "Iteration 0\n",
            "**************************************************\n",
            "Working with with 10000\n"
          ]
        }
      ]
    },
    {
      "cell_type": "code",
      "metadata": {
        "id": "o8u77aT_fhl4"
      },
      "source": [
        "with open('dataset_size_experiments.p','wb') as F:\n",
        "    pickle.dump(all_info, F)"
      ],
      "id": "o8u77aT_fhl4",
      "execution_count": null,
      "outputs": []
    },
    {
      "cell_type": "code",
      "metadata": {
        "id": "conscious-spirit"
      },
      "source": [
        "# trained_models[1024000].test_accuracy"
      ],
      "id": "conscious-spirit",
      "execution_count": 49,
      "outputs": []
    },
    {
      "cell_type": "code",
      "metadata": {
        "id": "warming-position"
      },
      "source": [
        "# all_info[0][0][1024000] = all_info[1][0][1024000]"
      ],
      "id": "warming-position",
      "execution_count": null,
      "outputs": []
    },
    {
      "cell_type": "code",
      "metadata": {
        "id": "numerical-economics"
      },
      "source": [
        "# all_info[0][1][1024000] = all_info[1][1][1024000]"
      ],
      "id": "numerical-economics",
      "execution_count": null,
      "outputs": []
    },
    {
      "cell_type": "code",
      "metadata": {
        "id": "satellite-labor"
      },
      "source": [
        "# all_info[1]"
      ],
      "id": "satellite-labor",
      "execution_count": null,
      "outputs": []
    },
    {
      "cell_type": "code",
      "metadata": {
        "scrolled": true,
        "id": "intended-blackjack"
      },
      "source": [
        "all_info[0][1]"
      ],
      "id": "intended-blackjack",
      "execution_count": null,
      "outputs": []
    },
    {
      "cell_type": "code",
      "metadata": {
        "id": "bibliographic-methodology"
      },
      "source": [
        "attack_per_dset_size = {}\n",
        "for key in all_info[0][1].keys():\n",
        "    adv_count = len(all_info[0][1][key].advs)\n",
        "    start_count = len(all_info[0][1][key].starts)\n",
        "    attack_rate = adv_count/start_count*100\n",
        "    attack_per_dset_size[key] = attack_rate"
      ],
      "id": "bibliographic-methodology",
      "execution_count": null,
      "outputs": []
    },
    {
      "cell_type": "code",
      "metadata": {
        "scrolled": true,
        "id": "usual-observation",
        "outputId": "32585821-2bd5-49fe-b28e-cd61905546e6"
      },
      "source": [
        "attack_per_dset_size"
      ],
      "id": "usual-observation",
      "execution_count": null,
      "outputs": [
        {
          "data": {
            "text/plain": [
              "{4000: 100.0, 16000: 100.0, 64000: 100.0, 256000: 100.0, 1024000: 100.0}"
            ]
          },
          "execution_count": 105,
          "metadata": {},
          "output_type": "execute_result"
        }
      ]
    },
    {
      "cell_type": "code",
      "metadata": {
        "scrolled": true,
        "id": "requested-albania",
        "outputId": "d684fd86-77be-4c4f-8d7a-aa57b9080bd2"
      },
      "source": [
        "plt.plot(attack_per_dset_size.values(), marker='o')\n",
        "plt.xticks(list(range(len(attack_per_dset_size.keys()))), labels = attack_per_dset_size.keys())\n",
        "plt.ylim(0,110)\n",
        "plt.title('CMA attack rate as dataset size changes')\n",
        "plt.xlabel('Dataset Size')\n",
        "plt.ylabel('CMA attack rate')\n",
        "plt.show()"
      ],
      "id": "requested-albania",
      "execution_count": null,
      "outputs": [
        {
          "data": {
            "image/png": "[encoded data removed]",
            "text/plain": [
              "<Figure size 432x288 with 1 Axes>"
            ]
          },
          "metadata": {
            "needs_background": "light"
          },
          "output_type": "display_data"
        }
      ]
    },
    {
      "cell_type": "code",
      "metadata": {
        "id": "monetary-greeting"
      },
      "source": [
        "##### Execute because used extensively below #####\n",
        "def predict(model, point):\n",
        "    prepped_point = torch.from_numpy(point).cuda().float().unsqueeze(0)\n",
        "    prediction = torch.argmax(model(prepped_point)[0]).item()\n",
        "    return prediction"
      ],
      "id": "monetary-greeting",
      "execution_count": null,
      "outputs": []
    },
    {
      "cell_type": "markdown",
      "metadata": {
        "id": "specified-hungary"
      },
      "source": [
        "# Impact of Dimensionality"
      ],
      "id": "specified-hungary"
    },
    {
      "cell_type": "code",
      "metadata": {
        "id": "dated-bargain"
      },
      "source": [
        "all_info = []"
      ],
      "id": "dated-bargain",
      "execution_count": null,
      "outputs": []
    },
    {
      "cell_type": "code",
      "metadata": {
        "scrolled": true,
        "id": "congressional-sauce",
        "outputId": "01554161-b041-4c2f-d637-94a88f25a000"
      },
      "source": [
        "for iteration in range(1):\n",
        "    print('*'*50)\n",
        "    print('Iteration %s'%iteration)\n",
        "    print('*'*50)\n",
        "    \n",
        "    trained_models = {}\n",
        "    attack_output = {}\n",
        "    for N_dim in [5000]:\n",
        "        print('Working with with %s dimensions'%N_dim)\n",
        "        dsize = 10000\n",
        "        dset = make_dataset(dsize)\n",
        "        trained_models[N_dim] = train_model(N_dim, dset, 'dset_size_%s'%dsize)\n",
        "        model_to_attack = trained_models[N_dim].cpu()\n",
        "        attack_output[N_dim] = cma_experiment(model_to_attack, 10)\n",
        "    iter_info = [trained_models, attack_output]\n",
        "    all_info.append(iter_info)"
      ],
      "id": "congressional-sauce",
      "execution_count": null,
      "outputs": [
        {
          "name": "stdout",
          "output_type": "stream",
          "text": [
            "**************************************************\n",
            "Iteration 0\n",
            "**************************************************\n",
            "Working with with 5000 dimensions\n"
          ]
        },
        {
          "data": {
            "application/vnd.jupyter.widget-view+json": {
              "model_id": "514cacd2d8c54bed8cad478062d88ce1",
              "version_major": 2,
              "version_minor": 0
            },
            "text/plain": [
              "  0%|          | 0/100 [00:00<?, ?it/s]"
            ]
          },
          "metadata": {},
          "output_type": "display_data"
        },
        {
          "name": "stdout",
          "output_type": "stream",
          "text": [
            "dset_size_10000\n"
          ]
        },
        {
          "data": {
            "application/vnd.jupyter.widget-view+json": {
              "model_id": "07b29b1eff744859a158be414c2a3fa4",
              "version_major": 2,
              "version_minor": 0
            },
            "text/plain": [
              "  0%|          | 0/10 [00:00<?, ?it/s]"
            ]
          },
          "metadata": {},
          "output_type": "display_data"
        }
      ]
    },
    {
      "cell_type": "code",
      "metadata": {
        "id": "damaged-hobby",
        "outputId": "86709c38-88a2-478e-8921-bf3bf43fcde4"
      },
      "source": [
        "len(attack_output[5000].in_dist_advs)"
      ],
      "id": "damaged-hobby",
      "execution_count": null,
      "outputs": [
        {
          "data": {
            "text/plain": [
              "0"
            ]
          },
          "execution_count": 25,
          "metadata": {},
          "output_type": "execute_result"
        }
      ]
    },
    {
      "cell_type": "code",
      "metadata": {
        "id": "rolled-camcorder",
        "outputId": "626ba95f-cccc-4ceb-8545-07a8d768ae38"
      },
      "source": [
        "len(attack_output[1000].in_dist_advs)"
      ],
      "id": "rolled-camcorder",
      "execution_count": null,
      "outputs": [
        {
          "data": {
            "text/plain": [
              "10"
            ]
          },
          "execution_count": 23,
          "metadata": {},
          "output_type": "execute_result"
        }
      ]
    },
    {
      "cell_type": "code",
      "metadata": {
        "scrolled": true,
        "id": "continent-custody",
        "outputId": "08b09815-cd49-4141-d626-eaffa8e1b517"
      },
      "source": [
        "len(attack_output[100].in_dist_advs)"
      ],
      "id": "continent-custody",
      "execution_count": null,
      "outputs": [
        {
          "data": {
            "text/plain": [
              "10"
            ]
          },
          "execution_count": 21,
          "metadata": {},
          "output_type": "execute_result"
        }
      ]
    },
    {
      "cell_type": "code",
      "metadata": {
        "id": "iraqi-guess",
        "outputId": "e8d0a77e-011c-44d9-b4b0-90925a9494d1"
      },
      "source": [
        "len(attack_output[50].in_dist_advs)"
      ],
      "id": "iraqi-guess",
      "execution_count": null,
      "outputs": [
        {
          "data": {
            "text/plain": [
              "10"
            ]
          },
          "execution_count": 22,
          "metadata": {},
          "output_type": "execute_result"
        }
      ]
    },
    {
      "cell_type": "code",
      "metadata": {
        "id": "secret-outside",
        "outputId": "96c4fda5-da88-4d91-dd8d-df916d11fb47"
      },
      "source": [
        "len(attack_output[100].in_dist_advs)"
      ],
      "id": "secret-outside",
      "execution_count": null,
      "outputs": [
        {
          "data": {
            "text/plain": [
              "10"
            ]
          },
          "execution_count": 23,
          "metadata": {},
          "output_type": "execute_result"
        }
      ]
    },
    {
      "cell_type": "code",
      "metadata": {
        "id": "conscious-clinton",
        "outputId": "fdd852f9-152a-462d-d6c2-bf1ce5a978a6"
      },
      "source": [
        "len(attack_output[250].in_dist_advs)"
      ],
      "id": "conscious-clinton",
      "execution_count": null,
      "outputs": [
        {
          "data": {
            "text/plain": [
              "10"
            ]
          },
          "execution_count": 28,
          "metadata": {},
          "output_type": "execute_result"
        }
      ]
    },
    {
      "cell_type": "code",
      "metadata": {
        "id": "wanted-glory",
        "outputId": "3dac26fe-4df1-46cb-e5f0-5c46f6106b83"
      },
      "source": [
        "len(attack_output[500].in_dist_advs)"
      ],
      "id": "wanted-glory",
      "execution_count": null,
      "outputs": [
        {
          "data": {
            "text/plain": [
              "6"
            ]
          },
          "execution_count": 29,
          "metadata": {},
          "output_type": "execute_result"
        }
      ]
    },
    {
      "cell_type": "code",
      "metadata": {
        "id": "grave-remains",
        "outputId": "e11f141b-3f9a-4f88-a257-81206aa3acf7"
      },
      "source": [
        "len(attack_output[1000].in_dist_advs)"
      ],
      "id": "grave-remains",
      "execution_count": null,
      "outputs": [
        {
          "data": {
            "text/plain": [
              "10"
            ]
          },
          "execution_count": 31,
          "metadata": {},
          "output_type": "execute_result"
        }
      ]
    },
    {
      "cell_type": "code",
      "metadata": {
        "id": "internal-germany"
      },
      "source": [
        "len(attack_output[2500].in_dist_advs)"
      ],
      "id": "internal-germany",
      "execution_count": null,
      "outputs": []
    },
    {
      "cell_type": "code",
      "metadata": {
        "id": "aggregate-resolution"
      },
      "source": [
        "attack_per_dset_dim = {}\n",
        "for key in iter_info[1].keys():\n",
        "    adv_count = len(iter_info[1][key].advs)\n",
        "    start_count = len(iter_info[1][key].starts)\n",
        "    attack_rate = adv_count/start_count*100\n",
        "    attack_per_dset_dim[key] = attack_rate"
      ],
      "id": "aggregate-resolution",
      "execution_count": null,
      "outputs": []
    },
    {
      "cell_type": "code",
      "metadata": {
        "id": "flying-economics"
      },
      "source": [
        "plt.plot(attack_per_dset_dim.values(), marker='o')\n",
        "plt.xticks(list(range(len(attack_per_dset_dim.keys()))), labels = attack_per_dset_dim.keys())\n",
        "plt.ylim(0,110)\n",
        "plt.title('CMA attack rate as dataset size changes')\n",
        "plt.xlabel('Dataset Size')\n",
        "plt.ylabel('CMA attack rate')\n",
        "plt.show()"
      ],
      "id": "flying-economics",
      "execution_count": null,
      "outputs": []
    },
    {
      "cell_type": "markdown",
      "metadata": {
        "id": "sophisticated-gregory"
      },
      "source": [
        "# Does Pooling solve the problem?"
      ],
      "id": "sophisticated-gregory"
    },
    {
      "cell_type": "code",
      "metadata": {
        "id": "median-hazard"
      },
      "source": [
        "def predict(model, point):\n",
        "    prepped_point = torch.from_numpy(point).cuda().float().unsqueeze(0)\n",
        "    prediction = torch.argmax(model(prepped_point)[0]).item()\n",
        "    return prediction"
      ],
      "id": "median-hazard",
      "execution_count": null,
      "outputs": []
    },
    {
      "cell_type": "code",
      "metadata": {
        "id": "latin-bryan",
        "outputId": "27011c03-5416-4f44-b5c1-2cff2d13d8f1"
      },
      "source": [
        "print('****** This is a sanity check *******')\n",
        "for i in range(5):\n",
        "    random_point = sample_uniform(1, N_dim, test_min, test_max)\n",
        "    pred_out = predict(model_to_attack.cuda(), np.array(random_point[0]))\n",
        "    print('Randomly sampled a point from the test_min, test_max range....')\n",
        "    print('Prediction is %s'%pred_out)\n",
        "print('****** Should be a lot 0s predicted above*****')"
      ],
      "id": "latin-bryan",
      "execution_count": null,
      "outputs": [
        {
          "name": "stdout",
          "output_type": "stream",
          "text": [
            "****** This is a sanity check *******\n",
            "Randomly sampled a point from the test_min, test_max range....\n",
            "Prediction is 0\n",
            "Randomly sampled a point from the test_min, test_max range....\n",
            "Prediction is 0\n",
            "Randomly sampled a point from the test_min, test_max range....\n",
            "Prediction is 0\n",
            "Randomly sampled a point from the test_min, test_max range....\n",
            "Prediction is 0\n",
            "Randomly sampled a point from the test_min, test_max range....\n",
            "Prediction is 0\n",
            "****** Should be a lot 0s predicted above*****\n"
          ]
        }
      ]
    },
    {
      "cell_type": "code",
      "metadata": {
        "id": "moral-musician",
        "outputId": "ece800d0-eb14-4c96-94f9-fb13b79363ab"
      },
      "source": [
        "predict(model_to_attack.cuda(), all_info[0][1][10000].advs[1])"
      ],
      "id": "moral-musician",
      "execution_count": null,
      "outputs": [
        {
          "data": {
            "text/plain": [
              "1"
            ]
          },
          "execution_count": 305,
          "metadata": {},
          "output_type": "execute_result"
        }
      ]
    },
    {
      "cell_type": "markdown",
      "metadata": {
        "id": "endless-macro"
      },
      "source": [
        "##### Let's try to fix this by randomly perturbing the adversarial"
      ],
      "id": "endless-macro"
    },
    {
      "cell_type": "code",
      "metadata": {
        "id": "interstate-summary"
      },
      "source": [
        "pert_to_recovery = {}\n",
        "for repeats in range(5):\n",
        "    for p in np.arange(0.05,0.3,0.05):\n",
        "        all_top_preds = []\n",
        "        for i in range(50):\n",
        "            adv_sample = all_info[0][1][10000].advs[i]\n",
        "\n",
        "            all_preds = []\n",
        "            for i in range(10):\n",
        "                perturb_min = -p\n",
        "                perturb_max = p\n",
        "                perturb_vector = np.array(sample_uniform(1, N_dim, perturb_min, perturb_max)[0])\n",
        "                perturbed_sample = adv_sample + perturb_vector\n",
        "                perturbed_prediction = predict(model_to_attack.cuda(), perturbed_sample)\n",
        "                all_preds.append(perturbed_prediction)\n",
        "            top_pred = max(set(all_preds), key = all_preds.count)\n",
        "\n",
        "            all_top_preds.append(top_pred)\n",
        "\n",
        "        recovered_acc = (1 - np.sum(all_top_preds)/50)*100\n",
        "        if \"%.02f\"%p in pert_to_recovery.keys():\n",
        "            pert_to_recovery[\"%.02f\"%p].append(recovered_acc)\n",
        "        else:\n",
        "            pert_to_recovery[\"%.02f\"%p] = [recovered_acc]\n",
        "#         print('Recovered %s%% samples by random perturbation.'%recovered_acc)"
      ],
      "id": "interstate-summary",
      "execution_count": null,
      "outputs": []
    },
    {
      "cell_type": "code",
      "metadata": {
        "scrolled": true,
        "id": "antique-preparation",
        "outputId": "bebe6613-c25d-49f0-8b62-a8e553fa2e88"
      },
      "source": [
        "np.linalg.norm(perturb_vector)"
      ],
      "id": "antique-preparation",
      "execution_count": null,
      "outputs": [
        {
          "data": {
            "text/plain": [
              "1.4335177"
            ]
          },
          "execution_count": 325,
          "metadata": {},
          "output_type": "execute_result"
        }
      ]
    },
    {
      "cell_type": "code",
      "metadata": {
        "id": "brief-chase"
      },
      "source": [
        "mean_perfs = np.mean(np.array(list(pert_to_recovery.values())),axis=1)\n",
        "std_perfs = np.std(np.array(list(pert_to_recovery.values())),axis=1)"
      ],
      "id": "brief-chase",
      "execution_count": null,
      "outputs": []
    },
    {
      "cell_type": "code",
      "metadata": {
        "scrolled": true,
        "id": "delayed-chain",
        "outputId": "aa2cac46-ea97-46e4-e960-2f5cdd0a491b"
      },
      "source": [
        "plt.errorbar([0,1,2,3,4], mean_perfs, std_perfs, marker='o')\n",
        "plt.title('Recovery as function of perturbation norm')\n",
        "plt.xlabel('amount of random perturbation on adv sample')\n",
        "plt.ylabel('Accuracy after voting on multiple predictions')\n",
        "plt.xticks([0,1,2,3,4],labels=list(pert_to_recovery.keys()))\n",
        "plt.show()"
      ],
      "id": "delayed-chain",
      "execution_count": null,
      "outputs": [
        {
          "data": {
            "image/png": "[encoded data removed]",
            "text/plain": [
              "<Figure size 432x288 with 1 Axes>"
            ]
          },
          "metadata": {
            "needs_background": "light"
          },
          "output_type": "display_data"
        }
      ]
    },
    {
      "cell_type": "markdown",
      "metadata": {
        "id": "weekly-netscape"
      },
      "source": [
        "#### Lets see the norm of adversarial perturbation: how much is needed if the direction was known."
      ],
      "id": "weekly-netscape"
    },
    {
      "cell_type": "code",
      "metadata": {
        "id": "subsequent-visibility"
      },
      "source": [
        "adv_point = all_info[0][1][10000].advs[1]\n",
        "start_point = np.array(all_info[0][1][10000].starts[1])"
      ],
      "id": "subsequent-visibility",
      "execution_count": null,
      "outputs": []
    },
    {
      "cell_type": "code",
      "metadata": {
        "id": "deluxe-booth"
      },
      "source": [
        "adv_vec = adv_point - start_point"
      ],
      "id": "deluxe-booth",
      "execution_count": null,
      "outputs": []
    },
    {
      "cell_type": "code",
      "metadata": {
        "id": "printable-snapshot",
        "outputId": "600b8297-5388-49be-a7a8-664486f09d5d"
      },
      "source": [
        "np.linalg.norm(adv_vec)"
      ],
      "id": "printable-snapshot",
      "execution_count": null,
      "outputs": [
        {
          "data": {
            "text/plain": [
              "2.9962379296577284"
            ]
          },
          "execution_count": 321,
          "metadata": {},
          "output_type": "execute_result"
        }
      ]
    },
    {
      "cell_type": "code",
      "metadata": {
        "id": "liked-evans",
        "outputId": "a844d44d-397b-465e-d956-ab93163d965e"
      },
      "source": [
        "np.linalg.norm(adv_point)"
      ],
      "id": "liked-evans",
      "execution_count": null,
      "outputs": [
        {
          "data": {
            "text/plain": [
              "5.389204731238513"
            ]
          },
          "execution_count": 322,
          "metadata": {},
          "output_type": "execute_result"
        }
      ]
    },
    {
      "cell_type": "code",
      "metadata": {
        "id": "beneficial-supervisor",
        "outputId": "9e83f99f-815c-44ad-8f0d-bb9ceda01373"
      },
      "source": [
        "np.linalg.norm(start_point)"
      ],
      "id": "beneficial-supervisor",
      "execution_count": null,
      "outputs": [
        {
          "data": {
            "text/plain": [
              "5.800697"
            ]
          },
          "execution_count": 323,
          "metadata": {},
          "output_type": "execute_result"
        }
      ]
    },
    {
      "cell_type": "markdown",
      "metadata": {
        "id": "nominated-output"
      },
      "source": [
        "# Church Window Plots"
      ],
      "id": "nominated-output"
    },
    {
      "cell_type": "code",
      "metadata": {
        "id": "appointed-absolute"
      },
      "source": [
        "def perpendicular_vector(v):\n",
        "    random_vector = np.random.randn(N_dim)\n",
        "    orthogonal = random_vector - random_vector.dot(v)*v/np.linalg.norm(v)**2\n",
        "    orthogonal_normalized = orthogonal/np.linalg.norm(orthogonal) * np.linalg.norm(v)\n",
        "    return orthogonal_normalized\n",
        "\n",
        "def plot_church_window(start_point, adv_point):\n",
        "    adv_vector = adv_point - start_point\n",
        "    orthogonal_vector = perpendicular_vector(adv_vector)\n",
        "\n",
        "\n",
        "    ##### Collect Predictions ######\n",
        "    predictions = np.zeros((40,40))\n",
        "\n",
        "    row_num = 0\n",
        "    col_num = 0\n",
        "\n",
        "    for alpha in np.arange(0, 2.0, 0.05):\n",
        "        for beta in np.arange(0, 2.0, 0.05):\n",
        "            curr_point = start_point + beta*adv_vector + alpha*orthogonal_vector\n",
        "            curr_pred = predict(model, curr_point)\n",
        "            predictions[row_num][col_num] = curr_pred\n",
        "            col_num += 1\n",
        "        row_num += 1\n",
        "        col_num = 0\n",
        "\n",
        "    ##### Plot ######\n",
        "    plt.imshow(predictions, cmap=custom_cmap)\n",
        "    plt.xlim([0, 40])\n",
        "    plt.ylim([0, 40])\n",
        "    plt.title('Church Window Plot')\n",
        "    plt.xticks(range(0,40,5), labels = np.arange(0,2,0.25))\n",
        "    plt.yticks(range(0,40,5), labels = np.arange(0,2,0.25))\n",
        "    plt.xlabel('Adversarial Direction')\n",
        "    plt.ylabel('Orthogonal Direction')\n",
        "    plt.show()"
      ],
      "id": "appointed-absolute",
      "execution_count": null,
      "outputs": []
    },
    {
      "cell_type": "code",
      "metadata": {
        "scrolled": false,
        "id": "sized-contrast",
        "outputId": "1ced093d-b6f9-46b6-9f85-a660779597f4"
      },
      "source": [
        "DSIZE = 10000\n",
        "\n",
        "\n",
        "from matplotlib import colors\n",
        "\n",
        "custom_cmap = colors.ListedColormap(['white', 'red'])\n",
        "bounds=[0,1]\n",
        "norm = colors.BoundaryNorm(bounds, custom_cmap.N)\n",
        "\n",
        "model = all_info[0][0][DSIZE].cuda()\n",
        "\n",
        "for i in range(5):\n",
        "    adv_point = all_info[0][1][DSIZE].in_dist_advs[i]\n",
        "    start_point = all_info[0][1][DSIZE].starts[i]\n",
        "    start_point = np.array(start_point)[0]\n",
        "    plot_church_window(start_point, adv_point)"
      ],
      "id": "sized-contrast",
      "execution_count": null,
      "outputs": [
        {
          "data": {
            "image/png": "[encoded data removed]",
            "text/plain": [
              "<Figure size 432x288 with 1 Axes>"
            ]
          },
          "metadata": {
            "needs_background": "light"
          },
          "output_type": "display_data"
        },
        {
          "data": {
            "image/png": "[encoded data removed]",
            "text/plain": [
              "<Figure size 432x288 with 1 Axes>"
            ]
          },
          "metadata": {
            "needs_background": "light"
          },
          "output_type": "display_data"
        },
        {
          "data": {
            "image/png": "[encoded data removed]",
            "text/plain": [
              "<Figure size 432x288 with 1 Axes>"
            ]
          },
          "metadata": {
            "needs_background": "light"
          },
          "output_type": "display_data"
        },
        {
          "data": {
            "image/png": "[encoded data removed]",
            "text/plain": [
              "<Figure size 432x288 with 1 Axes>"
            ]
          },
          "metadata": {
            "needs_background": "light"
          },
          "output_type": "display_data"
        },
        {
          "data": {
            "image/png": "[encoded data removed]",
            "text/plain": [
              "<Figure size 432x288 with 1 Axes>"
            ]
          },
          "metadata": {
            "needs_background": "light"
          },
          "output_type": "display_data"
        }
      ]
    },
    {
      "cell_type": "markdown",
      "metadata": {
        "id": "parallel-forestry"
      },
      "source": [
        "# Nearest neighbor analysis"
      ],
      "id": "parallel-forestry"
    },
    {
      "cell_type": "code",
      "metadata": {
        "id": "piano-expense"
      },
      "source": [
        "starting_points = all_info[0][1][10000].starts\n",
        "in_dist_advs_points = all_info[0][1][10000].in_dist_advs"
      ],
      "id": "piano-expense",
      "execution_count": null,
      "outputs": []
    },
    {
      "cell_type": "code",
      "metadata": {
        "id": "waiting-rates"
      },
      "source": [
        "training_points = all_info[0][0][10000].dataset[0]"
      ],
      "id": "waiting-rates",
      "execution_count": null,
      "outputs": []
    },
    {
      "cell_type": "code",
      "metadata": {
        "id": "suspected-subject"
      },
      "source": [
        "start_neighbor_distances = []\n",
        "for start_p in starting_points:\n",
        "    distances = torch.sum((training_points - start_p.cuda())**2, dim = 1)\n",
        "    neighbors = torch.argsort(distances)[:10].cpu()\n",
        "    neighbor_distance = torch.sum(distances[neighbors]).item()\n",
        "    start_neighbor_distances.append(neighbor_distance)"
      ],
      "id": "suspected-subject",
      "execution_count": null,
      "outputs": []
    },
    {
      "cell_type": "code",
      "metadata": {
        "id": "irish-newsletter"
      },
      "source": [
        "adv_neighbor_distances = []\n",
        "for adv_p in in_dist_advs_points:\n",
        "    distances = torch.sum((training_points - torch.from_numpy(adv_p).cuda())**2, dim = 1)\n",
        "    neighbors = torch.argsort(distances)[:10].cpu()\n",
        "    neighbor_distance = torch.sum(distances[neighbors]).item()\n",
        "    adv_neighbor_distances.append(neighbor_distance)"
      ],
      "id": "irish-newsletter",
      "execution_count": null,
      "outputs": []
    },
    {
      "cell_type": "code",
      "metadata": {
        "id": "czech-sterling",
        "outputId": "c67a00d1-3200-4cbf-b01c-92dadacf57a8"
      },
      "source": [
        "plt.hist(start_neighbor_distances)"
      ],
      "id": "czech-sterling",
      "execution_count": null,
      "outputs": [
        {
          "data": {
            "text/plain": [
              "(array([ 2.,  3., 24., 40., 45., 47., 24., 10.,  4.,  1.]),\n",
              " array([ 9915.65136719,  9974.9921875 , 10034.33300781, 10093.67382812,\n",
              "        10153.01464844, 10212.35546875, 10271.69628906, 10331.03710938,\n",
              "        10390.37792969, 10449.71875   , 10509.05957031]),\n",
              " <BarContainer object of 10 artists>)"
            ]
          },
          "execution_count": 32,
          "metadata": {},
          "output_type": "execute_result"
        },
        {
          "data": {
            "image/png": "[encoded data removed]",
            "text/plain": [
              "<Figure size 432x288 with 1 Axes>"
            ]
          },
          "metadata": {
            "needs_background": "light"
          },
          "output_type": "display_data"
        }
      ]
    },
    {
      "cell_type": "code",
      "metadata": {
        "id": "foreign-minnesota",
        "outputId": "bfa4398a-9d3e-411e-d265-1f153782e076"
      },
      "source": [
        "plt.hist(adv_neighbor_distances)"
      ],
      "id": "foreign-minnesota",
      "execution_count": null,
      "outputs": [
        {
          "data": {
            "text/plain": [
              "(array([ 3.,  7., 27., 39., 52., 34., 23., 10.,  4.,  1.]),\n",
              " array([ 9939.33247206,  9988.23968375, 10037.14689545, 10086.05410715,\n",
              "        10134.96131885, 10183.86853054, 10232.77574224, 10281.68295394,\n",
              "        10330.59016564, 10379.49737733, 10428.40458903]),\n",
              " <BarContainer object of 10 artists>)"
            ]
          },
          "execution_count": 33,
          "metadata": {},
          "output_type": "execute_result"
        },
        {
          "data": {
            "image/png": "[encoded data removed]",
            "text/plain": [
              "<Figure size 432x288 with 1 Axes>"
            ]
          },
          "metadata": {
            "needs_background": "light"
          },
          "output_type": "display_data"
        }
      ]
    },
    {
      "cell_type": "code",
      "metadata": {
        "id": "yellow-prague",
        "outputId": "b27ae27c-372d-4bf1-9a10-23c16c9e5961"
      },
      "source": [
        "np.mean(adv_neighbor_distances)"
      ],
      "id": "yellow-prague",
      "execution_count": null,
      "outputs": [
        {
          "data": {
            "text/plain": [
              "10160.343138349179"
            ]
          },
          "execution_count": 34,
          "metadata": {},
          "output_type": "execute_result"
        }
      ]
    },
    {
      "cell_type": "code",
      "metadata": {
        "id": "marine-packaging",
        "outputId": "3e82fbee-8233-4ab8-b803-a235bc1f2b58"
      },
      "source": [
        "np.mean(start_neighbor_distances)"
      ],
      "id": "marine-packaging",
      "execution_count": null,
      "outputs": [
        {
          "data": {
            "text/plain": [
              "10196.771958007812"
            ]
          },
          "execution_count": 35,
          "metadata": {},
          "output_type": "execute_result"
        }
      ]
    },
    {
      "cell_type": "code",
      "metadata": {
        "id": "coated-burns",
        "outputId": "8bc1735e-9e98-4cbb-c0ee-6123bce55aeb"
      },
      "source": [
        "np.std(adv_neighbor_distances)"
      ],
      "id": "coated-burns",
      "execution_count": null,
      "outputs": [
        {
          "data": {
            "text/plain": [
              "81.89637551160129"
            ]
          },
          "execution_count": 36,
          "metadata": {},
          "output_type": "execute_result"
        }
      ]
    },
    {
      "cell_type": "code",
      "metadata": {
        "id": "confirmed-rabbit",
        "outputId": "631a9ad5-d5c7-43e0-b48f-66a5cdc0d068"
      },
      "source": [
        "np.std(start_neighbor_distances)"
      ],
      "id": "confirmed-rabbit",
      "execution_count": null,
      "outputs": [
        {
          "data": {
            "text/plain": [
              "94.20267086666723"
            ]
          },
          "execution_count": 37,
          "metadata": {},
          "output_type": "execute_result"
        }
      ]
    },
    {
      "cell_type": "markdown",
      "metadata": {
        "id": "governmental-leone"
      },
      "source": [
        "# Adversarial Training analysis"
      ],
      "id": "governmental-leone"
    },
    {
      "cell_type": "markdown",
      "metadata": {
        "id": "baking-reynolds"
      },
      "source": [
        "### Collect adv points (25% of training data size)"
      ],
      "id": "baking-reynolds"
    },
    {
      "cell_type": "code",
      "metadata": {
        "id": "casual-atlantic"
      },
      "source": [
        "attack_output_2 = {}"
      ],
      "id": "casual-atlantic",
      "execution_count": null,
      "outputs": []
    },
    {
      "cell_type": "code",
      "metadata": {
        "scrolled": false,
        "id": "former-winter",
        "outputId": "b1336177-b27a-4ad1-86a3-bdfe7172ac18"
      },
      "source": [
        "attack_output_2[dsize] = cma_experiment(model_to_attack, 4000)"
      ],
      "id": "former-winter",
      "execution_count": null,
      "outputs": [
        {
          "name": "stdout",
          "output_type": "stream",
          "text": [
            "dset_size_10000\n"
          ]
        },
        {
          "data": {
            "application/vnd.jupyter.widget-view+json": {
              "model_id": "a1bc90d8466d49cca92ac278ceb321a7",
              "version_major": 2,
              "version_minor": 0
            },
            "text/plain": [
              "  0%|          | 0/4000 [00:00<?, ?it/s]"
            ]
          },
          "metadata": {},
          "output_type": "display_data"
        }
      ]
    },
    {
      "cell_type": "code",
      "metadata": {
        "id": "specified-lender"
      },
      "source": [
        "# with open('inof.p', 'wb') as F:\n",
        "#     pickle.dump(attack_output_2, F)"
      ],
      "id": "specified-lender",
      "execution_count": null,
      "outputs": []
    },
    {
      "cell_type": "code",
      "metadata": {
        "scrolled": false,
        "id": "coated-retro"
      },
      "source": [
        "augmented_training_data = torch.vstack([training_points, torch.tensor(attack_output_2[dsize].in_dist_advs).float().cuda()])"
      ],
      "id": "coated-retro",
      "execution_count": null,
      "outputs": []
    },
    {
      "cell_type": "markdown",
      "metadata": {
        "id": "adult-finance"
      },
      "source": [
        "### Train with them"
      ],
      "id": "adult-finance"
    },
    {
      "cell_type": "code",
      "metadata": {
        "id": "assigned-circular"
      },
      "source": [
        "training_labels = dset[2]"
      ],
      "id": "assigned-circular",
      "execution_count": null,
      "outputs": []
    },
    {
      "cell_type": "code",
      "metadata": {
        "id": "controlling-quantity"
      },
      "source": [
        "augmented_training_labels = torch.hstack([training_labels, torch.zeros(4000).long().cuda()])"
      ],
      "id": "controlling-quantity",
      "execution_count": null,
      "outputs": []
    },
    {
      "cell_type": "code",
      "metadata": {
        "id": "southern-floor"
      },
      "source": [
        "# augmented_training_labels[-1]"
      ],
      "id": "southern-floor",
      "execution_count": null,
      "outputs": []
    },
    {
      "cell_type": "code",
      "metadata": {
        "id": "institutional-attraction"
      },
      "source": [
        "dset_new = [augmented_training_data, dset[1], augmented_training_labels, dset[3]] "
      ],
      "id": "institutional-attraction",
      "execution_count": null,
      "outputs": []
    },
    {
      "cell_type": "code",
      "metadata": {
        "id": "similar-perry"
      },
      "source": [
        "adv_trained_models = {}"
      ],
      "id": "similar-perry",
      "execution_count": null,
      "outputs": []
    },
    {
      "cell_type": "code",
      "metadata": {
        "id": "furnished-particle"
      },
      "source": [
        "adv_attack_output = {}"
      ],
      "id": "furnished-particle",
      "execution_count": null,
      "outputs": []
    },
    {
      "cell_type": "code",
      "metadata": {
        "scrolled": false,
        "id": "minus-split",
        "outputId": "8aa1bc03-8e33-4c34-f581-cdc045a65e52"
      },
      "source": [
        "# dset = make_dataset(dsize)\n",
        "adv_trained_models[dsize] = train_model(N_dim, dset_new, 'dset_size_%s_adv'%dsize)"
      ],
      "id": "minus-split",
      "execution_count": null,
      "outputs": [
        {
          "data": {
            "application/vnd.jupyter.widget-view+json": {
              "model_id": "d292af428f1846458c1fb9a9fa88716d",
              "version_major": 2,
              "version_minor": 0
            },
            "text/plain": [
              "  0%|          | 0/1000 [00:00<?, ?it/s]"
            ]
          },
          "metadata": {},
          "output_type": "display_data"
        },
        {
          "name": "stdout",
          "output_type": "stream",
          "text": [
            "Epoch:999, Train Acc:tensor(1., device='cuda:0')\n",
            "Epoch:999, Test Acc:tensor(1., device='cuda:0')\n"
          ]
        }
      ]
    },
    {
      "cell_type": "code",
      "metadata": {
        "id": "dedicated-howard"
      },
      "source": [
        "# adv_trained_models[10000].dataset[0].shape"
      ],
      "id": "dedicated-howard",
      "execution_count": null,
      "outputs": []
    },
    {
      "cell_type": "code",
      "metadata": {
        "scrolled": true,
        "id": "double-yesterday",
        "outputId": "b0a45c52-beea-4cd1-cbf9-a2ceea74df40"
      },
      "source": [
        "adv_model_to_attack = adv_trained_models[dsize].cpu()\n",
        "adv_attack_output[dsize] = cma_experiment(adv_model_to_attack, 50)"
      ],
      "id": "double-yesterday",
      "execution_count": null,
      "outputs": [
        {
          "name": "stdout",
          "output_type": "stream",
          "text": [
            "dset_size_10000_adv\n"
          ]
        },
        {
          "data": {
            "application/vnd.jupyter.widget-view+json": {
              "model_id": "4df79fac3a3448ab9cbb50045058d882",
              "version_major": 2,
              "version_minor": 0
            },
            "text/plain": [
              "  0%|          | 0/50 [00:00<?, ?it/s]"
            ]
          },
          "metadata": {},
          "output_type": "display_data"
        }
      ]
    },
    {
      "cell_type": "code",
      "metadata": {
        "id": "familiar-visibility"
      },
      "source": [
        "# len(adv_attack_output[dsize].in_dist_advs)"
      ],
      "id": "familiar-visibility",
      "execution_count": null,
      "outputs": []
    },
    {
      "cell_type": "markdown",
      "metadata": {
        "id": "educated-amplifier"
      },
      "source": [
        "# Aggregate evaluation"
      ],
      "id": "educated-amplifier"
    },
    {
      "cell_type": "code",
      "metadata": {
        "id": "committed-clause"
      },
      "source": [
        "all_distances = {}\n",
        "in_dists = {}"
      ],
      "id": "committed-clause",
      "execution_count": null,
      "outputs": []
    },
    {
      "cell_type": "code",
      "metadata": {
        "id": "portuguese-security"
      },
      "source": [
        "# all_info[0][1][dsize].in_dist_advs"
      ],
      "id": "portuguese-security",
      "execution_count": null,
      "outputs": []
    },
    {
      "cell_type": "code",
      "metadata": {
        "id": "diagnostic-chicago"
      },
      "source": [
        "for dsize in [1000, 100000]:\n",
        "    all_distances[dsize] = []\n",
        "    in_dists[dsize] = []\n",
        "    for i in range(1):\n",
        "        in_dists[dsize].append(len(all_info[i][1][dsize].in_dist_advs))\n",
        "        all_distances[dsize].append(np.nanmean(all_info[i][1][dsize].distances))"
      ],
      "id": "diagnostic-chicago",
      "execution_count": null,
      "outputs": []
    },
    {
      "cell_type": "code",
      "metadata": {
        "id": "congressional-smoke"
      },
      "source": [
        "# all_distances.keys()"
      ],
      "id": "congressional-smoke",
      "execution_count": null,
      "outputs": []
    },
    {
      "cell_type": "code",
      "metadata": {
        "scrolled": false,
        "id": "entitled-bridges",
        "outputId": "47b8c9e7-7d50-4fe7-f503-e56324df9f69"
      },
      "source": [
        "for key in all_distances.keys():\n",
        "    print(np.nanmean(all_distances[key]))"
      ],
      "id": "entitled-bridges",
      "execution_count": null,
      "outputs": [
        {
          "name": "stdout",
          "output_type": "stream",
          "text": [
            "3.2171293443927995\n",
            "5.13962748088732\n"
          ]
        }
      ]
    },
    {
      "cell_type": "code",
      "metadata": {
        "scrolled": false,
        "id": "destroyed-airfare",
        "outputId": "a79caf70-abb6-462c-eccd-ee6b92780360"
      },
      "source": [
        "for key in in_dists.keys():\n",
        "    print(np.mean(in_dists[key]))"
      ],
      "id": "destroyed-airfare",
      "execution_count": null,
      "outputs": [
        {
          "name": "stdout",
          "output_type": "stream",
          "text": [
            "10.0\n",
            "10.0\n"
          ]
        }
      ]
    },
    {
      "cell_type": "code",
      "metadata": {
        "id": "comparable-better"
      },
      "source": [
        "def predict(model, point):\n",
        "    prepped_point = torch.from_numpy(point).cuda().float().unsqueeze(0)\n",
        "    prediction = torch.argmax(model(prepped_point)[0]).item()\n",
        "    return prediction"
      ],
      "id": "comparable-better",
      "execution_count": null,
      "outputs": []
    },
    {
      "cell_type": "markdown",
      "metadata": {
        "id": "mechanical-guest"
      },
      "source": [
        "# Sensitivity Analysis"
      ],
      "id": "mechanical-guest"
    },
    {
      "cell_type": "code",
      "metadata": {
        "id": "imperial-terminology"
      },
      "source": [
        "DSIZE = 1000"
      ],
      "id": "imperial-terminology",
      "execution_count": null,
      "outputs": []
    },
    {
      "cell_type": "code",
      "metadata": {
        "scrolled": true,
        "id": "foreign-pepper"
      },
      "source": [
        "mod = all_info[0][0][DSIZE].cuda()"
      ],
      "id": "foreign-pepper",
      "execution_count": null,
      "outputs": []
    },
    {
      "cell_type": "code",
      "metadata": {
        "id": "scenic-fraction"
      },
      "source": [
        "def min_subset(start, adv, mod, start_id = 0):\n",
        "    for i in range(start_id, start_id + 50):\n",
        "        index = i%50\n",
        "        start[:index] = adv[:index]\n",
        "        start_pred = predict(mod, start)\n",
        "        adv_pred = predict(mod, adv)\n",
        "        if start_pred == adv_pred:\n",
        "            break\n",
        "    return index        \n",
        "#     print('Broke at %i'%index)"
      ],
      "id": "scenic-fraction",
      "execution_count": null,
      "outputs": []
    },
    {
      "cell_type": "code",
      "metadata": {
        "id": "growing-steal"
      },
      "source": [
        "broken_changes = []\n",
        "for i in range(10):\n",
        "    adv_point = all_info[0][1][DSIZE].in_dist_advs[i]\n",
        "    start_point = all_info[0][1][DSIZE].starts[i]\n",
        "    start_point = np.array(start_point)[0]\n",
        "    broken_change = min_subset(start_point, adv_point, mod, random.choice(list(range(50))))\n",
        "    broken_changes.append(broken_change)"
      ],
      "id": "growing-steal",
      "execution_count": null,
      "outputs": []
    },
    {
      "cell_type": "code",
      "metadata": {
        "scrolled": true,
        "id": "graduate-grounds",
        "outputId": "0485abb7-e281-4e4d-b6fa-66d2f86e2285"
      },
      "source": [
        "print(np.mean(broken_changes))\n",
        "print(np.std(broken_changes))"
      ],
      "id": "graduate-grounds",
      "execution_count": null,
      "outputs": [
        {
          "name": "stdout",
          "output_type": "stream",
          "text": [
            "44.1\n",
            "6.057227088363123\n"
          ]
        }
      ]
    },
    {
      "cell_type": "markdown",
      "metadata": {
        "id": "phantom-radar"
      },
      "source": [
        "# Opposite change"
      ],
      "id": "phantom-radar"
    },
    {
      "cell_type": "code",
      "metadata": {
        "id": "intended-albany"
      },
      "source": [
        "with open('info_iters.p','rb') as F:\n",
        "    all_info = pickle.load(F)"
      ],
      "id": "intended-albany",
      "execution_count": null,
      "outputs": []
    },
    {
      "cell_type": "code",
      "metadata": {
        "id": "specialized-yeast"
      },
      "source": [
        "def min_subset_reform(start, adv, mod, start_id = 0):\n",
        "    for i in range(start_id, start_id + 50):\n",
        "        index = i%50\n",
        "        adv[:index] = start[:index]\n",
        "        start_pred = predict(mod, start)\n",
        "        adv_pred = predict(mod, adv)\n",
        "        if start_pred == adv_pred:\n",
        "            break\n",
        "    return index"
      ],
      "id": "specialized-yeast",
      "execution_count": null,
      "outputs": []
    },
    {
      "cell_type": "code",
      "metadata": {
        "id": "copyrighted-validity"
      },
      "source": [
        "broken_changes = []\n",
        "for i in range(50):\n",
        "    adv_point = all_info[0][1][DSIZE].in_dist_advs[i]\n",
        "    start_point = all_info[0][1][DSIZE].starts[i]\n",
        "    start_point = np.array(start_point)[0]\n",
        "    broken_change = min_subset_reform(start_point, adv_point, mod, random.choice(list(range(50))))\n",
        "    broken_changes.append(broken_change)"
      ],
      "id": "copyrighted-validity",
      "execution_count": null,
      "outputs": []
    },
    {
      "cell_type": "code",
      "metadata": {
        "scrolled": false,
        "id": "referenced-spice",
        "outputId": "0f191176-3a5e-4047-a72b-0d3459f36282"
      },
      "source": [
        "print(np.mean(broken_changes))\n",
        "print(np.std(broken_changes))"
      ],
      "id": "referenced-spice",
      "execution_count": null,
      "outputs": [
        {
          "name": "stdout",
          "output_type": "stream",
          "text": [
            "24.18\n",
            "13.122027282398097\n"
          ]
        }
      ]
    },
    {
      "cell_type": "markdown",
      "metadata": {
        "id": "narrative-walker"
      },
      "source": [
        "# Random Perturb"
      ],
      "id": "narrative-walker"
    },
    {
      "cell_type": "code",
      "metadata": {
        "id": "inclusive-softball"
      },
      "source": [
        "with open('info_iters.p','rb') as F:\n",
        "    all_info = pickle.load(F)"
      ],
      "id": "inclusive-softball",
      "execution_count": null,
      "outputs": []
    },
    {
      "cell_type": "code",
      "metadata": {
        "id": "filled-stick"
      },
      "source": [
        "def min_subset_random(start, adv, mod, start_id = 0):\n",
        "    for i in range(start_id, start_id + 50):\n",
        "        index = i%50\n",
        "        start[index] = np.random.normal(loc=np.mean(start[index]),scale=np.std(start[index]))\n",
        "        start_pred = predict(mod, start)\n",
        "        adv_pred = predict(mod, adv)\n",
        "        if start_pred == adv_pred:\n",
        "            break\n",
        "    return index"
      ],
      "id": "filled-stick",
      "execution_count": null,
      "outputs": []
    },
    {
      "cell_type": "code",
      "metadata": {
        "id": "burning-welsh"
      },
      "source": [
        "broken_changes = []\n",
        "for i in range(50):\n",
        "    adv_point = all_info[0][1][DSIZE].in_dist_advs[i]\n",
        "    start_point = all_info[0][1][DSIZE].starts[i]\n",
        "    start_point = np.array(start_point)[0]\n",
        "    broken_change = min_subset_random(start_point, adv_point, mod, random.choice(list(range(50))))\n",
        "    broken_changes.append(broken_change)"
      ],
      "id": "burning-welsh",
      "execution_count": null,
      "outputs": []
    },
    {
      "cell_type": "code",
      "metadata": {
        "id": "reverse-climate",
        "outputId": "8e1aaeb4-e54d-4923-84ce-f09ae4841047"
      },
      "source": [
        "print(np.mean(broken_changes))\n",
        "print(np.std(broken_changes))"
      ],
      "id": "reverse-climate",
      "execution_count": null,
      "outputs": [
        {
          "name": "stdout",
          "output_type": "stream",
          "text": [
            "28.98\n",
            "12.657788116412757\n"
          ]
        }
      ]
    }
  ]
}